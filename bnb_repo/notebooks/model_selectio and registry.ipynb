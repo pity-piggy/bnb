{
 "cells": [
  {
   "metadata": {
    "collapsed": true,
    "ExecuteTime": {
     "end_time": "2025-06-13T00:36:13.346755Z",
     "start_time": "2025-06-13T00:36:12.983944Z"
    }
   },
   "cell_type": "code",
   "source": [
    "import mlflow\n",
    "\n",
    "mlflow.set_tracking_uri(\"file:///Users/chloe/PycharmProjects/bnb/bnb_repo/mlruns\")\n",
    "print(\"Tracking URI:\", mlflow.get_tracking_uri())\n",
    "\n",
    "from mlflow.tracking import MlflowClient\n",
    "\n",
    "client = MlflowClient()\n",
    "experiment_id = client.get_experiment_by_name(\"airbnb_pricing_models_1\").experiment_id\n",
    "\n",
    "# Find best model (lowest RMSE in $)\n",
    "runs = client.search_runs(\n",
    "    experiment_ids=[experiment_id],\n",
    "    order_by=[\"metrics.rmse_log ASC\"],  # Optional: can remove to get all\n",
    "    max_results=1\n",
    ")\n",
    "\n",
    "if runs:\n",
    "    best_run = runs[0]\n",
    "    print(\"Best run ID:\", best_run.info.run_id)\n",
    "    print(\"Best RMSE ($):\", best_run.data.metrics[\"rmse_log\"])\n",
    "\n",
    "    # Register the model\n",
    "    model_uri = f\"runs:/{best_run.info.run_id}/model\"\n",
    "    mlflow.register_model(model_uri, \"airbnb_best_model_1\")\n",
    "    print(\"✅ Model registered as 'airbnb_best_model_1'\")\n",
    "else:\n",
    "    print(\"⚠️ No runs found.\")\n",
    "\n",
    "\n"
   ],
   "id": "initial_id",
   "outputs": [
    {
     "name": "stderr",
     "output_type": "stream",
     "text": [
      "Successfully registered model 'airbnb_best_model'.\n",
      "2025/06/12 20:36:13 WARNING mlflow.tracking._model_registry.fluent: Run with id a20cff517011465cb25e929f360a2248 has no artifacts at artifact path 'model', registering model based on models:/m-ea3c5ee443fa43539a1119741614829c instead\n"
     ]
    },
    {
     "name": "stdout",
     "output_type": "stream",
     "text": [
      "Tracking URI: file:///Users/chloe/PycharmProjects/bnb/bnb_repo/mlruns\n",
      "Best run ID: a20cff517011465cb25e929f360a2248\n",
      "Best RMSE ($): 0.37477254069062366\n",
      "✅ Model registered as 'airbnb_best_model'\n"
     ]
    },
    {
     "name": "stderr",
     "output_type": "stream",
     "text": [
      "Created version '1' of model 'airbnb_best_model'.\n"
     ]
    }
   ],
   "execution_count": 1
  }
 ],
 "metadata": {
  "kernelspec": {
   "display_name": "Python 3",
   "language": "python",
   "name": "python3"
  },
  "language_info": {
   "codemirror_mode": {
    "name": "ipython",
    "version": 2
   },
   "file_extension": ".py",
   "mimetype": "text/x-python",
   "name": "python",
   "nbconvert_exporter": "python",
   "pygments_lexer": "ipython2",
   "version": "2.7.6"
  }
 },
 "nbformat": 4,
 "nbformat_minor": 5
}
