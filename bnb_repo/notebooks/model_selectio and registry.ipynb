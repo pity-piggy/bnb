{
 "cells": [
  {
   "metadata": {
    "collapsed": true,
    "ExecuteTime": {
     "end_time": "2025-06-14T15:18:25.208251Z",
     "start_time": "2025-06-14T15:18:25.143373Z"
    }
   },
   "cell_type": "code",
   "source": [
    "import mlflow\n",
    "from mlflow.tracking import MlflowClient\n",
    "\n",
    "# Set tracking URI to local file store\n",
    "mlflow.set_tracking_uri(\"file:///Users/chloe/PycharmProjects/bnb/bnb_repo/mlruns\")\n",
    "print(\"Tracking URI:\", mlflow.get_tracking_uri())\n",
    "\n",
    "client = MlflowClient()\n",
    "\n",
    "# Get experiment ID\n",
    "experiment_id = client.get_experiment_by_name(\"airbnb_pricing_models_1\").experiment_id\n",
    "\n",
    "# Search for best run (lowest RMSE)\n",
    "runs = client.search_runs(\n",
    "    experiment_ids=[experiment_id],\n",
    "    order_by=[\"metrics.rmse_log ASC\"],\n",
    "    max_results=1\n",
    ")\n",
    "\n",
    "# Register the best model\n",
    "if runs:\n",
    "    best_run = runs[0]\n",
    "    print(\"Best run ID:\", best_run.info.run_id)\n",
    "    print(\"Best RMSE ($):\", best_run.data.metrics[\"rmse_log\"])\n",
    "\n",
    "    # Construct model URI\n",
    "    model_uri = f\"runs:/{best_run.info.run_id}/model\"\n",
    "\n",
    "    # ✅ Make sure model name is exactly what you want to see in UI\n",
    "    mlflow.register_model(model_uri, \"airbnb_best_model_1\")\n",
    "    print(\"✅ Model registered as 'airbnb_best_model_1'\")\n",
    "else:\n",
    "    print(\"⚠️ No runs found.\")\n"
   ],
   "id": "initial_id",
   "outputs": [
    {
     "name": "stderr",
     "output_type": "stream",
     "text": [
      "Successfully registered model 'airbnb_best_model_1'.\n",
      "2025/06/14 11:18:25 WARNING mlflow.tracking._model_registry.fluent: Run with id 822bfbe14af846c69d56465e42ad809b has no artifacts at artifact path 'model', registering model based on models:/m-b63c45414bd24f7fae6d85fb292b0288 instead\n"
     ]
    },
    {
     "name": "stdout",
     "output_type": "stream",
     "text": [
      "Tracking URI: file:///Users/chloe/PycharmProjects/bnb/bnb_repo/mlruns\n",
      "Best run ID: 822bfbe14af846c69d56465e42ad809b\n",
      "Best RMSE ($): 0.3568335309431398\n",
      "✅ Model registered as 'airbnb_best_model_1'\n"
     ]
    },
    {
     "name": "stderr",
     "output_type": "stream",
     "text": [
      "Created version '1' of model 'airbnb_best_model_1'.\n"
     ]
    }
   ],
   "execution_count": 5
  },
  {
   "metadata": {},
   "cell_type": "code",
   "outputs": [],
   "execution_count": null,
   "source": "",
   "id": "7990e60102f32a9b"
  }
 ],
 "metadata": {
  "kernelspec": {
   "display_name": "Python 3",
   "language": "python",
   "name": "python3"
  },
  "language_info": {
   "codemirror_mode": {
    "name": "ipython",
    "version": 2
   },
   "file_extension": ".py",
   "mimetype": "text/x-python",
   "name": "python",
   "nbconvert_exporter": "python",
   "pygments_lexer": "ipython2",
   "version": "2.7.6"
  }
 },
 "nbformat": 4,
 "nbformat_minor": 5
}
