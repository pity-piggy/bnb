{
 "cells": [
  {
   "metadata": {
    "collapsed": true,
    "ExecuteTime": {
     "end_time": "2025-06-17T16:16:22.031314Z",
     "start_time": "2025-06-17T16:16:21.893287Z"
    }
   },
   "cell_type": "code",
   "source": [
    "import mlflow\n",
    "from mlflow.tracking import MlflowClient\n",
    "\n",
    "# Set MLflow tracking URI\n",
    "mlflow.set_tracking_uri(\"file:///Users/chloe/PycharmProjects/bnb/bnb_repo/mlruns\")\n",
    "client = MlflowClient()\n",
    "\n",
    "experiment_names = [\n",
    "    \"airbnb_pricing_models\",\n",
    "    \"airbnb_pricing_models_1\",\n",
    "    \"airbnb_pricing_models_2\",\n",
    "    \"airbnb_pricing_models_3\"\n",
    "]\n",
    "\n",
    "qualified_runs = []\n",
    "\n",
    "for exp_name in experiment_names:\n",
    "    experiment = client.get_experiment_by_name(exp_name)\n",
    "    if experiment is None:\n",
    "        print(f\"Experiment '{exp_name}' not found.\")\n",
    "        continue\n",
    "\n",
    "    experiment_id = experiment.experiment_id\n",
    "    runs = client.search_runs(\n",
    "        experiment_ids=[experiment_id],\n",
    "        order_by=[\"metrics.rmse_dollar ASC\"],\n",
    "        max_results=10\n",
    "    )\n",
    "\n",
    "    for run in runs:\n",
    "        metrics = run.data.metrics\n",
    "        r2 = metrics.get(\"r2_score\", 0)\n",
    "        rmse_dollar = metrics.get(\"rmse_dollar\", float(\"inf\"))\n",
    "        rmse_raw = metrics.get(\"rmse_raw\", float(\"inf\"))\n",
    "        mae = metrics.get(\"mae_log\", float(\"inf\"))\n",
    "\n",
    "        if r2 > 0.6:\n",
    "            score = 0.5 * rmse_dollar + 0.3 * rmse_raw + 0.2 * mae\n",
    "            qualified_runs.append((run, exp_name, score))\n",
    "\n",
    "# Select best run by composite score\n",
    "if qualified_runs:\n",
    "    best_run, best_experiment, best_score = sorted(qualified_runs, key=lambda x: x[2])[0]\n",
    "\n",
    "    print(\" Registering best model from experiment:\", best_experiment)\n",
    "    print(\"Run ID:\", best_run.info.run_id)\n",
    "    print(f\"R²: {best_run.data.metrics['r2_score']:.4f}\")\n",
    "    print(f\"Composite Score: {best_score:.4f}\")\n",
    "    print(f\"RMSE Real ($): {best_run.data.metrics['rmse_dollar']:.2f}\")\n",
    "\n",
    "    model_uri = f\"runs:/{best_run.info.run_id}/model\"\n",
    "    mlflow.register_model(model_uri, \"airbnb_best_model_in_range\")\n",
    "    print(\"Model registered as 'airbnb_best_model_in_range'\")\n",
    "\n",
    "else:\n",
    "    print(\"No suitable runs found with R² > 0.6.\")\n"
   ],
   "id": "initial_id",
   "outputs": [
    {
     "name": "stderr",
     "output_type": "stream",
     "text": [
      "Registered model 'airbnb_best_model_in_range' already exists. Creating a new version of this model...\n",
      "2025/06/17 12:16:22 WARNING mlflow.tracking._model_registry.fluent: Run with id a0f04a24ffeb46c4b20a6045f988de9d has no artifacts at artifact path 'model', registering model based on models:/m-eadd16085d1e47c0b98fa14715960269 instead\n"
     ]
    },
    {
     "name": "stdout",
     "output_type": "stream",
     "text": [
      " Registering best model from experiment: airbnb_pricing_models_2\n",
      "Run ID: a0f04a24ffeb46c4b20a6045f988de9d\n",
      "R²: 0.6405\n",
      "Composite Score: 35.6629\n",
      "RMSE Real ($): 71.00\n",
      "Model registered as 'airbnb_best_model_in_range'\n"
     ]
    },
    {
     "name": "stderr",
     "output_type": "stream",
     "text": [
      "Created version '3' of model 'airbnb_best_model_in_range'.\n"
     ]
    }
   ],
   "execution_count": 15
  },
  {
   "metadata": {},
   "cell_type": "code",
   "outputs": [],
   "execution_count": null,
   "source": "",
   "id": "7990e60102f32a9b"
  }
 ],
 "metadata": {
  "kernelspec": {
   "display_name": "Python 3",
   "language": "python",
   "name": "python3"
  },
  "language_info": {
   "codemirror_mode": {
    "name": "ipython",
    "version": 2
   },
   "file_extension": ".py",
   "mimetype": "text/x-python",
   "name": "python",
   "nbconvert_exporter": "python",
   "pygments_lexer": "ipython2",
   "version": "2.7.6"
  }
 },
 "nbformat": 4,
 "nbformat_minor": 5
}
